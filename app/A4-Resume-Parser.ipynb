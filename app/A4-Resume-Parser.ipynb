{
 "cells": [
  {
   "cell_type": "code",
   "execution_count": 1,
   "metadata": {},
   "outputs": [],
   "source": [
    "from PyPDF2 import PdfReader\n",
    "from library.utils import get_parser, preprocessing, unique, get_skills, get_work_experience, extract_\n",
    "from spacy import displacy"
   ]
  },
  {
   "cell_type": "code",
   "execution_count": 2,
   "metadata": {},
   "outputs": [],
   "source": [
    "nlp = get_parser()\n",
    "reader = PdfReader(\"data/chaklam_resume.pdf\")\n",
    "page = reader.pages[0]\n",
    "text = page.extract_text()"
   ]
  },
  {
   "cell_type": "code",
   "execution_count": 3,
   "metadata": {},
   "outputs": [
    {
     "data": {
      "text/plain": [
       "'Chaklam Silpasuwanchai Email : chaklam@ait.asia\\nhttp://chaklam.com Mobile : +66-63-310-9191\\nhttp://github.com/chaklam-silpasuwanchai\\nSkills\\n•Language : Python, Java, Javascript\\n•Tools/Frameworks : AWS/Azure, PyTorch, HuggingFace, Langchain, SpringBoot, PowerBI\\n•Theory : Natural Language Processing, Machine/Deep Learning, Software Engineering / Architecture,\\nHuman-Computer Interaction, Brain-Computer Interfaces\\nSelected Projects\\n•Large Language Models : Develop conversational AI for legal question answering, writing assistant, AI-generated\\ndetector, university chatbots, summarization, etc. using large language models.\\n•BCI Speller : Develop a real-time speller using EEG for locked-in patients.\\n•Non-Invasive Blood Glucose Measuring Using Raman Spectroscopy : Utilize Raman Spectroscopy to\\nnon-invasively measure blood glucose.\\n•Medical Imaging : Utilize deep learning and language models for medical image analysis and explanations.\\nWorking Experience\\n•Asian Institute of Technology Pathumthani, Thailand\\nAssistant Professor, School of Engineering and Technology January 2019 – present\\n•Stamford International University Bangkok, Thailand\\nFaculty, IT Program, Faculty of Business and Technology March 2017 - December 2019\\n•Kasetsart University Bangkok, Thailand\\nVisiting Professor, Department of Statistics July 2018 - December 2018\\n•Kochi University of Technology Kochi, Japan\\nPostdoctoral Researcher April 2015 - February 2017\\nEducation\\n•Kochi University of Technology Kochi, Japan\\nDoctor of Engineering in Computer Science; GPA: 4.00 March 2012 – March 2017\\n•Asian Institute of Technology Pathumthani, Thailand\\nMaster of Engineering in Computer Science; GPA: 3.94 August 2009 – May 2011\\n•Sirindhorn International Institute of Technology Pathumthani, Thailand\\nBachelor of Science in Computer Science; GPA: 3.82 (First-Class Honours) June 2004 – March 2008\\nSelected 5 Publications\\nGoogle Scholar (h-index, citations): 11, 561 (Last updated: May 26, 2023)\\n1. Pananookooln, C., Akaranee, J., and Silpasuwanchai, C. . Comparing Selective Masking Methods for Depression Detection in\\nSocial Media. Computational Linguistics . 2023. (IF: 7.778)\\n2. Romen, W. and Silpasuwanchai, C. . Neural stochastic differential equations network as uncertainty quantification method for\\nEEG source localization. Biomed Physical Eng Express . 2022. (IF: 1.463)\\n3. Niksirat, KS., Silpasuwanchai, C. , Cheng, P. and Ren, X. Attention Regulation Framework: Designing Self-Regulated Mindfulness\\nTechnologies. ACM Transactions on Computer-Human Interaction. 26, 6, Article 39 (November 2019), 44 pages. DOI:\\nhttps://doi.org/10.1145/3359593. (IF: 2.227)\\n4. Niksirat, KS., Silpasuwanchai, C. and Ren, X. Sex Differences in relationship between flow proneness in everyday life and gray\\nmatter of the dopaminergic system: a cross-sectional study. Personality and Individual Differences 141. 2019. (IF: 2.390)\\n5. Sarcar, S., Jokinen, J., Oulasvirta, A., Wang, Z., Silpasuwanchai, C. and Ren, X. Ability-Based Optimization of Touchscreen\\nInteractions. IEEE Pervasive Computing 17(1). 2018. (IF: 3.022)'"
      ]
     },
     "execution_count": 3,
     "metadata": {},
     "output_type": "execute_result"
    }
   ],
   "source": [
    "text"
   ]
  },
  {
   "cell_type": "code",
   "execution_count": 4,
   "metadata": {},
   "outputs": [
    {
     "data": {
      "text/plain": [
       "'Chaklam Silpasuwanchai Email : chaklam@ait.asia\\nhttp://chaklam.com Mobile : +66-63-310-9191\\nhttp://github.com/chaklam-silpasuwanchai\\nSkills\\n•Language : Python, Java, Javascript\\n•Tools/Frameworks : AWS/Azure, PyTorch, HuggingFace, Langchain, SpringBoot, PowerBI\\n•Theory : Natural Language Processing, Machine/Deep Learning, Software Engineering / Architecture,\\nHuman-Computer Interaction, Brain-Computer Interfaces\\nSelected Projects\\n•Large Language Models : Develop conversational AI for legal question answering, writing assistant, AI-generated\\ndetector, university chatbots, summarization, etc. using large language models.\\n•BCI Speller : Develop a real-time speller using EEG for locked-in patients.\\n•Non-Invasive Blood Glucose Measuring Using Raman Spectroscopy : Utilize Raman Spectroscopy to\\nnon-invasively measure blood glucose.\\n•Medical Imaging : Utilize deep learning and language models for medical image analysis and explanations.\\nWorking Experience\\n•Asian Institute of Technology Pathumthani, Thailand\\nAssistant Professor, School of Engineering and Technology January 2019 – present\\n•Stamford International University Bangkok, Thailand\\nFaculty, IT Program, Faculty of Business and Technology March 2017 - December 2019\\n•Kasetsart University Bangkok, Thailand\\nVisiting Professor, Department of Statistics July 2018 - December 2018\\n•Kochi University of Technology Kochi, Japan\\nPostdoctoral Researcher April 2015 - February 2017\\nEducation\\n•Kochi University of Technology Kochi, Japan\\nDoctor of Engineering in Computer Science; GPA: 4.00 March 2012 – March 2017\\n•Asian Institute of Technology Pathumthani, Thailand\\nMaster of Engineering in Computer Science; GPA: 3.94 August 2009 – May 2011\\n•Sirindhorn International Institute of Technology Pathumthani, Thailand\\nBachelor of Science in Computer Science; GPA: 3.82 (First-Class Honours) June 2004 – March 2008\\nSelected 5 Publications\\nGoogle Scholar (h-index, citations): 11, 561 (Last updated: May 26, 2023)\\n1. Pananookooln, C., Akaranee, J., and Silpasuwanchai, C. . Comparing Selective Masking Methods for Depression Detection in\\nSocial Media. Computational Linguistics . 2023. (IF: 7.778)\\n2. Romen, W. and Silpasuwanchai, C. . Neural stochastic differential equations network as uncertainty quantification method for\\nEEG source localization. Biomed Physical Eng Express . 2022. (IF: 1.463)\\n3. Niksirat, KS., Silpasuwanchai, C. , Cheng, P. and Ren, X. Attention Regulation Framework: Designing Self-Regulated Mindfulness\\nTechnologies. ACM Transactions on Computer-Human Interaction. 26, 6, Article 39 (November 2019), 44 pages. DOI:\\nhttps://doi.org/10.1145/3359593. (IF: 2.227)\\n4. Niksirat, KS., Silpasuwanchai, C. and Ren, X. Sex Differences in relationship between flow proneness in everyday life and gray\\nmatter of the dopaminergic system: a cross-sectional study. Personality and Individual Differences 141. 2019. (IF: 2.390)\\n5. Sarcar, S., Jokinen, J., Oulasvirta, A., Wang, Z., Silpasuwanchai, C. and Ren, X. Ability-Based Optimization of Touchscreen\\nInteractions. IEEE Pervasive Computing 17(1). 2018. (IF: 3.022)'"
      ]
     },
     "execution_count": 4,
     "metadata": {},
     "output_type": "execute_result"
    }
   ],
   "source": [
    "# text = preprocessing(text, nlp)\n",
    "text"
   ]
  },
  {
   "cell_type": "code",
   "execution_count": 5,
   "metadata": {},
   "outputs": [],
   "source": [
    "doc = nlp(text)\n",
    "# colors = {\"SKILL\": \"linear-gradient(90deg, #aa9cfc, #fc9ce7)\"}\n",
    "# options = {\"colors\": colors}\n",
    "\n",
    "# displacy.render(doc, style='ent', options=options)"
   ]
  },
  {
   "cell_type": "code",
   "execution_count": 6,
   "metadata": {},
   "outputs": [
    {
     "data": {
      "text/plain": [
       "['question answering',\n",
       " 'AI',\n",
       " 'Google',\n",
       " 'Engineering',\n",
       " 'Python',\n",
       " 'Javascript',\n",
       " 'localization',\n",
       " 'Computer Science',\n",
       " 'Azure',\n",
       " 'Framework',\n",
       " 'deep learning']"
      ]
     },
     "execution_count": 6,
     "metadata": {},
     "output_type": "execute_result"
    }
   ],
   "source": [
    "skills = get_skills(doc, nlp)\n",
    "unique(skills)"
   ]
  },
  {
   "cell_type": "code",
   "execution_count": 7,
   "metadata": {},
   "outputs": [
    {
     "data": {
      "text/plain": [
       "['PyTorch',\n",
       " 'HuggingFace',\n",
       " 'SpringBoot',\n",
       " 'Natural Language Processing, Machine/Deep Learning, Software Engineering / Architecture',\n",
       " 'Human-Computer Interaction',\n",
       " 'Brain-Computer Interfaces\\nSelected Projects',\n",
       " 'Speller',\n",
       " '•Non-Invasive Blood Glucose Measuring',\n",
       " '•Medical',\n",
       " 'Institute of Technology Pathumthani',\n",
       " 'School of Engineering and Technology',\n",
       " 'International University Bangkok',\n",
       " 'Thailand\\nFaculty',\n",
       " 'Faculty of Business and Technology',\n",
       " '•Kasetsart University',\n",
       " 'Department of Statistics',\n",
       " 'University of Technology Kochi',\n",
       " 'Education\\n•Kochi University of Technology Kochi',\n",
       " 'Computer Science',\n",
       " 'GPA',\n",
       " '•Asian Institute of Technology Pathumthani',\n",
       " 'Computer Science',\n",
       " 'GPA',\n",
       " '•Sirindhorn International Institute of Technology Pathumthani',\n",
       " 'GPA',\n",
       " 'Pananookooln',\n",
       " 'Social Media',\n",
       " 'Physical Eng Express',\n",
       " 'Computer-Human Interaction',\n",
       " 'S., Jokinen',\n",
       " 'J., Oulasvirta, A.',\n",
       " 'Wang']"
      ]
     },
     "execution_count": 7,
     "metadata": {},
     "output_type": "execute_result"
    }
   ],
   "source": [
    "work_experiences = get_work_experience(doc, nlp)\n",
    "work_experiences"
   ]
  },
  {
   "cell_type": "code",
   "execution_count": 8,
   "metadata": {},
   "outputs": [
    {
     "data": {
      "text/plain": [
       "[]"
      ]
     },
     "execution_count": 8,
     "metadata": {},
     "output_type": "execute_result"
    }
   ],
   "source": [
    "email = extract_(doc, nlp, \"EMAIL\")\n",
    "email"
   ]
  },
  {
   "cell_type": "code",
   "execution_count": 9,
   "metadata": {},
   "outputs": [
    {
     "name": "stdout",
     "output_type": "stream",
     "text": [
      "Extracted email addresses:\n",
      "chaklam@ait.asia\n"
     ]
    }
   ],
   "source": [
    "from spacy.matcher import Matcher\n",
    "\n",
    "# Define the pattern for email addresses\n",
    "email_pattern = [{\"TEXT\": {\"REGEX\": r\"[a-zA-Z0-9._%+-]+@[a-zA-Z0-9.-]+\\.[a-zA-Z]{2,}\"}}]\n",
    "\n",
    "# Initialize the matcher\n",
    "matcher = Matcher(nlp.vocab)\n",
    "matcher.add(\"EMAIL\", [email_pattern])\n",
    "\n",
    "# Find matches in the processed text\n",
    "matches = matcher(doc)\n",
    "\n",
    "# Extract email addresses from matches\n",
    "email_addresses = []\n",
    "for match_id, start, end in matches:\n",
    "    span = doc[start:end]\n",
    "    email_addresses.append(span.text)\n",
    "\n",
    "# Print extracted email addresses\n",
    "print(\"Extracted email addresses:\")\n",
    "for email in email_addresses:\n",
    "    print(email)"
   ]
  },
  {
   "cell_type": "code",
   "execution_count": 10,
   "metadata": {},
   "outputs": [
    {
     "data": {
      "text/plain": [
       "'Chaklam Silpasuwanchai Email : chaklam@ait.asia\\nhttp://chaklam.com Mobile : +66-63-310-9191\\nhttp://github.com/chaklam-silpasuwanchai\\nSkills\\n•Language : Python, Java, Javascript\\n•Tools/Frameworks : AWS/Azure, PyTorch, HuggingFace, Langchain, SpringBoot, PowerBI\\n•Theory : Natural Language Processing, Machine/Deep Learning, Software Engineering / Architecture,\\nHuman-Computer Interaction, Brain-Computer Interfaces\\nSelected Projects\\n•Large Language Models : Develop conversational AI for legal question answering, writing assistant, AI-generated\\ndetector, university chatbots, summarization, etc. using large language models.\\n•BCI Speller : Develop a real-time speller using EEG for locked-in patients.\\n•Non-Invasive Blood Glucose Measuring Using Raman Spectroscopy : Utilize Raman Spectroscopy to\\nnon-invasively measure blood glucose.\\n•Medical Imaging : Utilize deep learning and language models for medical image analysis and explanations.\\nWorking Experience\\n•Asian Institute of Technology Pathumthani, Thailand\\nAssistant Professor, School of Engineering and Technology January 2019 – present\\n•Stamford International University Bangkok, Thailand\\nFaculty, IT Program, Faculty of Business and Technology March 2017 - December 2019\\n•Kasetsart University Bangkok, Thailand\\nVisiting Professor, Department of Statistics July 2018 - December 2018\\n•Kochi University of Technology Kochi, Japan\\nPostdoctoral Researcher April 2015 - February 2017\\nEducation\\n•Kochi University of Technology Kochi, Japan\\nDoctor of Engineering in Computer Science; GPA: 4.00 March 2012 – March 2017\\n•Asian Institute of Technology Pathumthani, Thailand\\nMaster of Engineering in Computer Science; GPA: 3.94 August 2009 – May 2011\\n•Sirindhorn International Institute of Technology Pathumthani, Thailand\\nBachelor of Science in Computer Science; GPA: 3.82 (First-Class Honours) June 2004 – March 2008\\nSelected 5 Publications\\nGoogle Scholar (h-index, citations): 11, 561 (Last updated: May 26, 2023)\\n1. Pananookooln, C., Akaranee, J., and Silpasuwanchai, C. . Comparing Selective Masking Methods for Depression Detection in\\nSocial Media. Computational Linguistics . 2023. (IF: 7.778)\\n2. Romen, W. and Silpasuwanchai, C. . Neural stochastic differential equations network as uncertainty quantification method for\\nEEG source localization. Biomed Physical Eng Express . 2022. (IF: 1.463)\\n3. Niksirat, KS., Silpasuwanchai, C. , Cheng, P. and Ren, X. Attention Regulation Framework: Designing Self-Regulated Mindfulness\\nTechnologies. ACM Transactions on Computer-Human Interaction. 26, 6, Article 39 (November 2019), 44 pages. DOI:\\nhttps://doi.org/10.1145/3359593. (IF: 2.227)\\n4. Niksirat, KS., Silpasuwanchai, C. and Ren, X. Sex Differences in relationship between flow proneness in everyday life and gray\\nmatter of the dopaminergic system: a cross-sectional study. Personality and Individual Differences 141. 2019. (IF: 2.390)\\n5. Sarcar, S., Jokinen, J., Oulasvirta, A., Wang, Z., Silpasuwanchai, C. and Ren, X. Ability-Based Optimization of Touchscreen\\nInteractions. IEEE Pervasive Computing 17(1). 2018. (IF: 3.022)'"
      ]
     },
     "execution_count": 10,
     "metadata": {},
     "output_type": "execute_result"
    }
   ],
   "source": [
    "text"
   ]
  },
  {
   "cell_type": "code",
   "execution_count": 11,
   "metadata": {},
   "outputs": [
    {
     "name": "stdout",
     "output_type": "stream",
     "text": [
      "Extracted phone numbers:\n",
      "+66-63-310-9191\n"
     ]
    }
   ],
   "source": [
    "# Define the pattern for phone numbers\n",
    "phone_pattern = [\n",
    "    {\"TEXT\": {\"REGEX\": r\"\\+?\\d{1,3}\"}},  # Country code, which is optional\n",
    "    {\"IS_SPACE\": True, \"OP\": \"?\"},       # Optional space\n",
    "    {\"ORTH\": \"-\"},                       # Hyphen\n",
    "    {\"IS_SPACE\": True, \"OP\": \"?\"},       # Optional space\n",
    "    {\"TEXT\": {\"REGEX\": r\"\\d{2,3}\"}},     # Area code\n",
    "    {\"IS_SPACE\": True, \"OP\": \"?\"},       # Optional space\n",
    "    {\"ORTH\": \"-\"},                       # Hyphen\n",
    "    {\"IS_SPACE\": True, \"OP\": \"?\"},       # Optional space\n",
    "    {\"TEXT\": {\"REGEX\": r\"\\d{3,4}\"}},     # First part of the number\n",
    "    {\"IS_SPACE\": True, \"OP\": \"?\"},       # Optional space\n",
    "    {\"ORTH\": \"-\"},                       # Hyphen\n",
    "    {\"IS_SPACE\": True, \"OP\": \"?\"},       # Optional space\n",
    "    {\"TEXT\": {\"REGEX\": r\"\\d{4}\"}}        # Second part of the number\n",
    "]\n",
    "\n",
    "# Initialize the matcher\n",
    "matcher = Matcher(nlp.vocab)\n",
    "matcher.add(\"PHONE_NUMBER\", [phone_pattern])\n",
    "\n",
    "# Find matches in the processed text\n",
    "matches = matcher(doc)\n",
    "\n",
    "# Extract phone numbers from matches\n",
    "phone_numbers = []\n",
    "for match_id, start, end in matches:\n",
    "    span = doc[start:end]\n",
    "    phone_numbers.append(span.text)\n",
    "\n",
    "# Print extracted phone numbers\n",
    "print(\"Extracted phone numbers:\")\n",
    "for phone_number in phone_numbers:\n",
    "    print(phone_number)"
   ]
  },
  {
   "cell_type": "code",
   "execution_count": 12,
   "metadata": {},
   "outputs": [
    {
     "data": {
      "text/plain": [
       "'PHONE_NUMBER'"
      ]
     },
     "execution_count": 12,
     "metadata": {},
     "output_type": "execute_result"
    }
   ],
   "source": [
    "matches\n",
    "nlp.vocab[matches[0][0]].text"
   ]
  },
  {
   "cell_type": "code",
   "execution_count": 13,
   "metadata": {},
   "outputs": [],
   "source": [
    "sections = set()\n",
    "for ent in doc.ents:\n",
    "    sections.add(ent.label_)"
   ]
  },
  {
   "cell_type": "code",
   "execution_count": 14,
   "metadata": {},
   "outputs": [
    {
     "data": {
      "text/plain": [
       "{'CARDINAL',\n",
       " 'DATE',\n",
       " 'GPE',\n",
       " 'LAW',\n",
       " 'NORP',\n",
       " 'ORG',\n",
       " 'PERSON',\n",
       " 'SKILL',\n",
       " 'WORK_OF_ART'}"
      ]
     },
     "execution_count": 14,
     "metadata": {},
     "output_type": "execute_result"
    }
   ],
   "source": [
    "sections"
   ]
  },
  {
   "cell_type": "code",
   "execution_count": null,
   "metadata": {},
   "outputs": [],
   "source": []
  }
 ],
 "metadata": {
  "kernelspec": {
   "display_name": "NLP_Datacamp",
   "language": "python",
   "name": "python3"
  },
  "language_info": {
   "codemirror_mode": {
    "name": "ipython",
    "version": 3
   },
   "file_extension": ".py",
   "mimetype": "text/x-python",
   "name": "python",
   "nbconvert_exporter": "python",
   "pygments_lexer": "ipython3",
   "version": "3.9.18"
  }
 },
 "nbformat": 4,
 "nbformat_minor": 2
}
